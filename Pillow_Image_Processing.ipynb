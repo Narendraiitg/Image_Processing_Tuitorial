{
  "nbformat": 4,
  "nbformat_minor": 0,
  "metadata": {
    "colab": {
      "provenance": [],
      "authorship_tag": "ABX9TyNeR/EvZX8/xVC+fIGaBccq",
      "include_colab_link": true
    },
    "kernelspec": {
      "name": "python3",
      "display_name": "Python 3"
    },
    "language_info": {
      "name": "python"
    }
  },
  "cells": [
    {
      "cell_type": "markdown",
      "metadata": {
        "id": "view-in-github",
        "colab_type": "text"
      },
      "source": [
        "<a href=\"https://colab.research.google.com/github/Narendraiitg/Image_Processing_Tuitorial/blob/main/Pillow_Image_Processing.ipynb\" target=\"_parent\"><img src=\"https://colab.research.google.com/assets/colab-badge.svg\" alt=\"Open In Colab\"/></a>"
      ]
    },
    {
      "cell_type": "markdown",
      "source": [
        "***Pillow (PIL) is an image manipulation and processing library in Python. We can do some basics processing using pillow library for examples image resizing, cropping, and applying them to multiple images.***\n",
        "\n"
      ],
      "metadata": {
        "id": "SeBMJmBHulqe"
      }
    },
    {
      "cell_type": "markdown",
      "source": [
        "***Loading an image using Pillow library***"
      ],
      "metadata": {
        "id": "wqcIsVYL1fFd"
      }
    },
    {
      "cell_type": "code",
      "source": [
        "from PIL import Image\n",
        "\n",
        "img=Image.open('/content/butterfly.png')"
      ],
      "metadata": {
        "id": "uyCoW7-l0qR-"
      },
      "execution_count": 12,
      "outputs": []
    },
    {
      "cell_type": "code",
      "source": [
        "img.show()\n",
        "print(img.format)"
      ],
      "metadata": {
        "colab": {
          "base_uri": "https://localhost:8080/"
        },
        "id": "QwCkhxjY05mF",
        "outputId": "5d0f1dbe-9532-4318-89e7-24a6c8c33542"
      },
      "execution_count": 13,
      "outputs": [
        {
          "output_type": "stream",
          "name": "stdout",
          "text": [
            "PNG\n"
          ]
        }
      ]
    },
    {
      "cell_type": "markdown",
      "source": [
        "We need to note that when we load an image using above method than image will not be in the form of numpy array rather it will be in the same format ie JPG/PNG so we can not do any image processing on the loaded image before converting them into numpy array"
      ],
      "metadata": {
        "id": "Z_5T7u1z1jdV"
      }
    },
    {
      "cell_type": "code",
      "source": [
        "print(img.mode)"
      ],
      "metadata": {
        "colab": {
          "base_uri": "https://localhost:8080/"
        },
        "id": "_Y9tABKWyNyQ",
        "outputId": "3ba9dbf4-ca7d-4b16-adcf-47fc177b498c"
      },
      "execution_count": 14,
      "outputs": [
        {
          "output_type": "stream",
          "name": "stdout",
          "text": [
            "RGB\n"
          ]
        }
      ]
    },
    {
      "cell_type": "markdown",
      "source": [
        "So the image by default is in RGB format"
      ],
      "metadata": {
        "id": "Y1QYOgqIstVo"
      }
    },
    {
      "cell_type": "code",
      "source": [
        "print(img.size)"
      ],
      "metadata": {
        "colab": {
          "base_uri": "https://localhost:8080/"
        },
        "id": "a06jLZGCs4Bi",
        "outputId": "0b479ad5-e0da-4329-9b12-1227c6900f49"
      },
      "execution_count": 15,
      "outputs": [
        {
          "output_type": "stream",
          "name": "stdout",
          "text": [
            "(256, 256)\n"
          ]
        }
      ]
    },
    {
      "cell_type": "markdown",
      "source": [
        "So image size is 256x256 (Width x Height) with 3 channels Red, Green & Blue"
      ],
      "metadata": {
        "id": "GdRO7H8Ss8sv"
      }
    },
    {
      "cell_type": "code",
      "source": [
        "# Lets crop the image using .crop function\n",
        "\n",
        "crop_img= img.crop((0,0,100,100))\n",
        "\n",
        "crop_img.save(\"/content/butterfly_croped.png\")\n"
      ],
      "metadata": {
        "id": "T3cjbSK-VJTh"
      },
      "execution_count": 16,
      "outputs": []
    },
    {
      "cell_type": "code",
      "source": [
        "# Lets paste the one image on another \n",
        "\n",
        "img1=Image.open('/content/istockphoto-1354441996-170667a.jpg')\n",
        "img1.show(img1)"
      ],
      "metadata": {
        "id": "za_9n6gOVrWv"
      },
      "execution_count": 19,
      "outputs": []
    },
    {
      "cell_type": "code",
      "source": [
        "print(img1.size)"
      ],
      "metadata": {
        "colab": {
          "base_uri": "https://localhost:8080/"
        },
        "id": "wMV7he8IXUi3",
        "outputId": "eb726c2a-4c89-4664-d974-6c3ac14243e5"
      },
      "execution_count": 22,
      "outputs": [
        {
          "output_type": "stream",
          "name": "stdout",
          "text": [
            "(509, 339)\n"
          ]
        }
      ]
    },
    {
      "cell_type": "code",
      "source": [
        "img2=Image.open('/content/SmallBizGenius-logo.png')"
      ],
      "metadata": {
        "id": "VZpzc3UCXf3X"
      },
      "execution_count": 23,
      "outputs": []
    },
    {
      "cell_type": "code",
      "source": [
        "print(img2.size)"
      ],
      "metadata": {
        "colab": {
          "base_uri": "https://localhost:8080/"
        },
        "id": "It19j8jQX2un",
        "outputId": "176557c8-1166-42a2-bf4b-1db3030bb69f"
      },
      "execution_count": 24,
      "outputs": [
        {
          "output_type": "stream",
          "name": "stdout",
          "text": [
            "(200, 200)\n"
          ]
        }
      ]
    },
    {
      "cell_type": "markdown",
      "source": [
        "So the size of the image 1 is 509x399 and size of image 2 is 200x200 so we will paste the image 2 on copy of image 1"
      ],
      "metadata": {
        "id": "Q3CiohlTX7Cx"
      }
    },
    {
      "cell_type": "code",
      "source": [
        "copy_img1=img1.copy() # Made the copy of image 1\n",
        "copy_img1.paste(img2,(50,50)) # pasting the image 2 with 50x50 size to copied image1 \n",
        "copy_img1.save(\"/content/istockphoto-1354441996-170667a_copyyy.jpg\") # saving the pasted image"
      ],
      "metadata": {
        "id": "QiiOJfMlX5EW"
      },
      "execution_count": 26,
      "outputs": []
    },
    {
      "cell_type": "code",
      "source": [
        "# we can rotate the imge by any degree with the following commond\n",
        "img45= img1.rotate(45)"
      ],
      "metadata": {
        "id": "vgV3v7l-YJ2m"
      },
      "execution_count": 33,
      "outputs": []
    },
    {
      "cell_type": "code",
      "source": [
        "img45.save('/content/rotated_45.jpg')"
      ],
      "metadata": {
        "id": "G4sTbtvmZhNH"
      },
      "execution_count": 34,
      "outputs": []
    },
    {
      "cell_type": "code",
      "source": [
        "# we can rotate the imge by 45 also by keeping the corner un cutted with following\n",
        "\n",
        "img45_WO= img1.rotate(45,expand=True)"
      ],
      "metadata": {
        "id": "xv3r4mInZlw3"
      },
      "execution_count": 35,
      "outputs": []
    },
    {
      "cell_type": "code",
      "source": [
        "img45_WO.save('/content/rotated_45WO.jpg')"
      ],
      "metadata": {
        "id": "zvHQG4KRazK2"
      },
      "execution_count": 36,
      "outputs": []
    },
    {
      "cell_type": "markdown",
      "source": [
        "Now we will flip the image fom left to right or top to bottom"
      ],
      "metadata": {
        "id": "B36UVlVjbJPJ"
      }
    },
    {
      "cell_type": "code",
      "source": [
        "img_flipLR= img2.transpose(Image.FLIP_LEFT_RIGHT)\n",
        "img_flipLR.save('/content/fliped.png')"
      ],
      "metadata": {
        "id": "6NVNAY3na7Gd"
      },
      "execution_count": 40,
      "outputs": []
    },
    {
      "cell_type": "markdown",
      "source": [
        "We can also change the image into the gray level"
      ],
      "metadata": {
        "id": "oeubv4FyctJq"
      }
    },
    {
      "cell_type": "code",
      "source": [
        "img_gray= img2.convert('L')\n",
        "img_gray.save('/content/Gray.png')"
      ],
      "metadata": {
        "id": "t3X4D2iYb1IQ"
      },
      "execution_count": 41,
      "outputs": []
    },
    {
      "cell_type": "markdown",
      "source": [
        "Now we will do the processing on the bunch of images in a folder using glob libraries"
      ],
      "metadata": {
        "id": "QGeJ_chefpCZ"
      }
    },
    {
      "cell_type": "code",
      "source": [
        "import glob"
      ],
      "metadata": {
        "id": "ALSjVQDifQ3z"
      },
      "execution_count": 42,
      "outputs": []
    },
    {
      "cell_type": "code",
      "source": [
        "path=\"MTP/Aeroplane/*\""
      ],
      "metadata": {
        "id": "oSGBmVFVguAH"
      },
      "execution_count": 51,
      "outputs": []
    },
    {
      "cell_type": "code",
      "source": [
        "for file in glob.glob(path):\n",
        "  print(file)\n",
        "  a= Image.open(file)\n",
        "  rotate45=a.roate(45, exapand=True) # rotating all the images one by one\n",
        "  rotated45.save(file+\"_rotated45.jpg\",\"jpg\") # saving all the rotated images in the same folder with existed name+_rotated"
      ],
      "metadata": {
        "id": "7tnngAmehPgX"
      },
      "execution_count": 52,
      "outputs": []
    },
    {
      "cell_type": "code",
      "source": [],
      "metadata": {
        "id": "BK0BbfAqhsMH"
      },
      "execution_count": null,
      "outputs": []
    }
  ]
}